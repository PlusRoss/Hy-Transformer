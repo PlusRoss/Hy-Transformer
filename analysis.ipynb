{
 "cells": [
  {
   "cell_type": "code",
   "execution_count": 40,
   "metadata": {},
   "outputs": [
    {
     "name": "stdout",
     "output_type": "stream",
     "text": [
      "The autoreload extension is already loaded. To reload it, use:\n",
      "  %reload_ext autoreload\n"
     ]
    }
   ],
   "source": [
    "import numpy as np\n",
    "from wikidata.client import Client\n",
    "from collections import defaultdict\n",
    "import torch\n",
    "client = Client()\n",
    "%load_ext autoreload\n",
    "%autoreload 2\n",
    "from data import analysis, modify"
   ]
  },
  {
   "cell_type": "code",
   "execution_count": 36,
   "metadata": {},
   "outputs": [],
   "source": [
    "data_dir = \"./data/clean/wd50k/statements_switch\""
   ]
  },
  {
   "cell_type": "code",
   "execution_count": 37,
   "metadata": {},
   "outputs": [
    {
     "name": "stdout",
     "output_type": "stream",
     "text": [
      "num tuples:  199761\n",
      "num tuples:  23913\n",
      "num tuples:  46159\n"
     ]
    }
   ],
   "source": [
    "train_data, num_train = analysis.read_data(data_dir + \"/train.txt\")\n",
    "val_data, num_val = analysis.read_data(data_dir + \"/valid.txt\")\n",
    "test_data, num_test = analysis.read_data(data_dir + \"/test.txt\")"
   ]
  },
  {
   "cell_type": "code",
   "execution_count": 17,
   "metadata": {},
   "outputs": [
    {
     "data": {
      "text/plain": [
       "[[['P1411', 'Q107258'], ['P805', 'Q903336'], ['P1686', 'Q898721']]]"
      ]
     },
     "execution_count": 17,
     "metadata": {},
     "output_type": "execute_result"
    }
   ],
   "source": [
    "# \"sub: [[rel_main, obj_main], [rel_qual_1, obj_qual_1], [rel_qual_2, obj_qual_2], ...]\"\n",
    "test_data[\"Q55294\"]"
   ]
  },
  {
   "cell_type": "code",
   "execution_count": 27,
   "metadata": {},
   "outputs": [],
   "source": [
    "# with open(data_dir + \"/test_name.txt\", \"w\") as wf:\n",
    "#     for ary in data[:200]:\n",
    "#         wf.write(\"||\".join([str(client.get(ele).label) for ele in ary]) + \"\\n\")"
   ]
  },
  {
   "cell_type": "code",
   "execution_count": 38,
   "metadata": {},
   "outputs": [
    {
     "name": "stdout",
     "output_type": "stream",
     "text": [
      "0.001343183344526528\n",
      "0.031369830368942135\n"
     ]
    }
   ],
   "source": [
    "overlap, overlap_r = [], []\n",
    "for ent in test_data:\n",
    "    for edge in test_data[ent]:\n",
    "        main_triple = [ent] + edge[0]\n",
    "        main_triple_reverse = [edge[0][1], edge[0][0], ent]\n",
    "        if analysis.test_triple_2(main_triple, train_data):\n",
    "            overlap.append(main_triple)\n",
    "        if analysis.test_triple_2(main_triple_reverse, train_data):\n",
    "            overlap_r.append(main_triple_reverse)\n",
    "print(len(overlap)/num_test)\n",
    "print(len(overlap_r)/num_test)"
   ]
  },
  {
   "cell_type": "code",
   "execution_count": 35,
   "metadata": {},
   "outputs": [
    {
     "name": "stdout",
     "output_type": "stream",
     "text": [
      "0.001343183344526528\n",
      "0.031369830368942135\n"
     ]
    }
   ],
   "source": [
    "# test whether test data leakage problem exists: one main triple exists in the data dict\n",
    "overlap, overlap_r = [], []\n",
    "for ent in test_data:\n",
    "    for edge in test_data[ent]:\n",
    "        main_triple = [ent] + edge[0]\n",
    "        main_triple_reverse = [edge[0][1], edge[0][0], ent]\n",
    "        if analysis.test_triple(main_triple, train_data):\n",
    "            overlap.append(main_triple)\n",
    "        if analysis.test_triple(main_triple_reverse, train_data):\n",
    "            overlap_r.append(main_triple_reverse)\n",
    "print(len(overlap)/num_test)\n",
    "print(len(overlap_r)/num_test)"
   ]
  },
  {
   "cell_type": "code",
   "execution_count": null,
   "metadata": {},
   "outputs": [],
   "source": []
  },
  {
   "cell_type": "code",
   "execution_count": 60,
   "metadata": {},
   "outputs": [
    {
     "name": "stdout",
     "output_type": "stream",
     "text": [
      "0.006211366500630138\n"
     ]
    }
   ],
   "source": [
    "# test whether one qualifier is also a main triple\n",
    "overlap = []\n",
    "num_qual = 0\n",
    "for ent in train_data:\n",
    "    for edge in train_data[ent]:\n",
    "        for qual_edge in edge[1:]:\n",
    "            num_qual += 1\n",
    "            qual_triple = [ent] + qual_edge\n",
    "            qual_triple_reverse = [qual_edge[1], qual_edge[0], ent]\n",
    "            if analysis.test_triple_2(qual_triple, train_data) \\\n",
    "                or analysis.test_triple_2(qual_triple_reverse, train_data):\n",
    "                overlap.append(qual_triple)\n",
    "print(len(overlap)/num_qual)"
   ]
  },
  {
   "cell_type": "code",
   "execution_count": 24,
   "metadata": {},
   "outputs": [
    {
     "name": "stdout",
     "output_type": "stream",
     "text": [
      "number of entities in main:  9890\n",
      "number of entities in qual:  13035\n",
      "number of entities in all:  17684\n",
      "number of entities only in qual:  7794\n"
     ]
    }
   ],
   "source": [
    "# how many entities/relations only exists in qualifiers\n",
    "entity_set_main = analysis.get_entity_set_main(train_data)\n",
    "entity_set_qual = analysis.get_entity_set_qual(train_data)\n",
    "print(\"number of entities in main: \", len(entity_set_main))\n",
    "print(\"number of entities in qual: \", len(entity_set_qual))\n",
    "print(\"number of entities in all: \", len(entity_set_main.union(entity_set_qual)))\n",
    "print(\"number of entities only in qual: \", len(entity_set_qual - entity_set_main))"
   ]
  },
  {
   "cell_type": "code",
   "execution_count": 25,
   "metadata": {},
   "outputs": [
    {
     "name": "stdout",
     "output_type": "stream",
     "text": [
      "number of relations in main:  197\n",
      "number of relations in qual:  132\n",
      "number of relations in all:  271\n",
      "number of relations only in qual:  74\n"
     ]
    }
   ],
   "source": [
    "# how many entities/relations only exists in qualifiers\n",
    "relation_set_main = analysis.get_relation_set_main(train_data)\n",
    "relation_set_qual = analysis.get_relation_set_qual(train_data)\n",
    "print(\"number of relations in main: \", len(relation_set_main))\n",
    "print(\"number of relations in qual: \", len(relation_set_qual))\n",
    "print(\"number of relations in all: \", len(relation_set_main.union(relation_set_qual)))\n",
    "print(\"number of relations only in qual: \", len(relation_set_qual - relation_set_main))"
   ]
  },
  {
   "cell_type": "markdown",
   "metadata": {},
   "source": [
    "## Generate new data"
   ]
  },
  {
   "cell_type": "code",
   "execution_count": 28,
   "metadata": {},
   "outputs": [],
   "source": [
    "%%bash\n",
    "data_dir=\"./data/clean/wd50k\"\n",
    "cp -r ${data_dir}/statements ${data_dir}/statements_switch"
   ]
  },
  {
   "cell_type": "code",
   "execution_count": 29,
   "metadata": {},
   "outputs": [],
   "source": [
    "data_dir = \"./data/clean/wd50k/statements_switch\"\n",
    "modify.aug_switch(data_dir + \"/train.txt\", data_dir + \"/train_switch.txt\")"
   ]
  },
  {
   "cell_type": "code",
   "execution_count": 31,
   "metadata": {},
   "outputs": [],
   "source": [
    "%%bash\n",
    "data_dir=\"./data/clean/wd50k/statements_switch\"\n",
    "mv ${data_dir}/train_switch.txt ${data_dir}/train.txt "
   ]
  },
  {
   "cell_type": "code",
   "execution_count": 48,
   "metadata": {},
   "outputs": [
    {
     "name": "stdout",
     "output_type": "stream",
     "text": [
      "tensor([-0.2562, -0.5812, -1.1616, -0.9717, -0.4676])\n",
      "tensor([0, 4, 1, 3, 2])\n"
     ]
    },
    {
     "data": {
      "text/plain": [
       "tensor([0, 2, 4, 3, 1])"
      ]
     },
     "execution_count": 48,
     "metadata": {},
     "output_type": "execute_result"
    }
   ],
   "source": [
    "a=torch.randn(5)\n",
    "print(a)\n",
    "print(torch.argsort(a, descending=True))\n",
    "torch.argsort(torch.argsort(a, descending=True))"
   ]
  },
  {
   "cell_type": "code",
   "execution_count": null,
   "metadata": {},
   "outputs": [],
   "source": []
  }
 ],
 "metadata": {
  "kernelspec": {
   "display_name": "Python 3",
   "language": "python",
   "name": "python3"
  },
  "language_info": {
   "codemirror_mode": {
    "name": "ipython",
    "version": 3
   },
   "file_extension": ".py",
   "mimetype": "text/x-python",
   "name": "python",
   "nbconvert_exporter": "python",
   "pygments_lexer": "ipython3",
   "version": "3.7.1"
  }
 },
 "nbformat": 4,
 "nbformat_minor": 4
}
